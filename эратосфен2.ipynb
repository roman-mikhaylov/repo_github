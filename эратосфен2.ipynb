{
  "nbformat": 4,
  "nbformat_minor": 0,
  "metadata": {
    "colab": {
      "provenance": [],
      "authorship_tag": "ABX9TyO47WuF/1PGD+zPtFr14Qnf",
      "include_colab_link": true
    },
    "kernelspec": {
      "name": "python3",
      "display_name": "Python 3"
    },
    "language_info": {
      "name": "python"
    }
  },
  "cells": [
    {
      "cell_type": "markdown",
      "metadata": {
        "id": "view-in-github",
        "colab_type": "text"
      },
      "source": [
        "<a href=\"https://colab.research.google.com/github/roman-mikhaylov/repo_github/blob/main/%D1%8D%D1%80%D0%B0%D1%82%D0%BE%D1%81%D1%84%D0%B5%D0%BD2.ipynb\" target=\"_parent\"><img src=\"https://colab.research.google.com/assets/colab-badge.svg\" alt=\"Open In Colab\"/></a>"
      ]
    },
    {
      "cell_type": "code",
      "source": [
        "my_list = [2]\n",
        "n = int(input(\"Введите верхнюю границу диапазона: \"))\n",
        "for k in range(3, n, 2):\n",
        "    i = 0\n",
        "    while k > my_list[i]:\n",
        "        if k % my_list[i] == 0:\n",
        "            break\n",
        "        if my_list[i] * 2 > k:\n",
        "           my_list.append(k)\n",
        "           break\n",
        "        i +=1\n",
        "count = len(my_list)\n",
        "print('\\n кол-во простых чисел',count)"
      ],
      "metadata": {
        "colab": {
          "base_uri": "https://localhost:8080/"
        },
        "id": "IFgDUIFPEQ1_",
        "outputId": "1ae4a00f-7eed-45c1-bceb-b79eedf6361c"
      },
      "execution_count": 39,
      "outputs": [
        {
          "output_type": "stream",
          "name": "stdout",
          "text": [
            "Введите верхнюю границу диапазона: 100\n",
            "\n",
            " кол-во простых чисел 25\n"
          ]
        }
      ]
    },
    {
      "cell_type": "code",
      "source": [
        "n = int(input(\"Введите верхнюю границу диапазона: \"))\n",
        "sieve = set(range(2, n+1))\n",
        "r = []\n",
        "while sieve:\n",
        "    prime = min(sieve)\n",
        "    #print(prime, end = \"\\t\")\n",
        "    r.append(prime)\n",
        "    sieve -= set(range(prime, n+1, prime))\n",
        "q = len(r)\n",
        "print('\\n кол-во простых чисел',q)"
      ],
      "metadata": {
        "colab": {
          "base_uri": "https://localhost:8080/"
        },
        "id": "qC18NFVIJLI2",
        "outputId": "6c845355-330e-4f8f-9f03-3b7b1073af9b"
      },
      "execution_count": null,
      "outputs": [
        {
          "output_type": "stream",
          "name": "stdout",
          "text": [
            "Введите верхнюю границу диапазона: 10\n",
            "\n",
            " кол-во простых чисел 4\n"
          ]
        }
      ]
    }
  ]
}