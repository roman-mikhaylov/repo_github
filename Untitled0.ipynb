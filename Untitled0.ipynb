{
  "nbformat": 4,
  "nbformat_minor": 0,
  "metadata": {
    "colab": {
      "name": "Untitled0.ipynb",
      "provenance": [],
      "authorship_tag": "ABX9TyPzPUbRQ80nkNs5kBi/AX+y",
      "include_colab_link": true
    },
    "kernelspec": {
      "name": "python3",
      "display_name": "Python 3"
    },
    "language_info": {
      "name": "python"
    }
  },
  "cells": [
    {
      "cell_type": "markdown",
      "metadata": {
        "id": "view-in-github",
        "colab_type": "text"
      },
      "source": [
        "<a href=\"https://colab.research.google.com/github/roman-mikhaylov/repo_github/blob/main/Untitled0.ipynb\" target=\"_parent\"><img src=\"https://colab.research.google.com/assets/colab-badge.svg\" alt=\"Open In Colab\"/></a>"
      ]
    },
    {
      "cell_type": "code",
      "execution_count": 4,
      "metadata": {
        "colab": {
          "base_uri": "https://localhost:8080/"
        },
        "id": "jTfHZgAs8VMg",
        "outputId": "98600723-0cb7-48c1-ff91-990e40cfc0fd"
      },
      "outputs": [
        {
          "output_type": "stream",
          "name": "stdout",
          "text": [
            "введите хначения через запятую2,2,3,4,1,3\n",
            "['2', '2', '4', '3', '3', '1']\n",
            "2 2 4 3 3 1\n"
          ]
        }
      ],
      "source": [
        "x = input('введите хначения через запятую').split(',')\n",
        "for i in range(0, len(x)-1, 2):\n",
        "    x[i+1], x[i] = x[i], x[i+1]\n",
        "print (x)\n",
        "print (' '.join(x))"
      ]
    },
    {
      "cell_type": "code",
      "source": [
        "year = {\n",
        "    '1': 'зима',\n",
        "    '2': 'зима',\n",
        "    '3': 'весна',\n",
        "    '4': 'весна',\n",
        "    '5': 'весна',\n",
        "    '6': 'лето',\n",
        "    '7': 'лето',\n",
        "    '8': 'лето',\n",
        "    '9': 'осень',\n",
        "    '10': 'осень',\n",
        "    '11': 'осень',\n",
        "    '12': 'зима'\n",
        "}\n",
        "\n",
        "try:\n",
        "    num = input('введите номер месяца ')\n",
        "    print(year[num])\n",
        "except KeyError:\n",
        "    print(\"введено неверное значение\")\n",
        "    exit "
      ],
      "metadata": {
        "colab": {
          "base_uri": "https://localhost:8080/"
        },
        "id": "RN-w9XH0_HIZ",
        "outputId": "e961513a-6d30-47ef-885c-921d8f8ba669"
      },
      "execution_count": 7,
      "outputs": [
        {
          "output_type": "stream",
          "name": "stdout",
          "text": [
            "введите номер месяца -9\n",
            "введено неверное значение\n"
          ]
        }
      ]
    },
    {
      "cell_type": "code",
      "source": [
        "x = enumerate(input('введи слова через пробел').split())\n",
        "for i,j in x:\n",
        "   print(i+1, j[:10])"
      ],
      "metadata": {
        "colab": {
          "base_uri": "https://localhost:8080/"
        },
        "id": "HIG9y7RnD3JN",
        "outputId": "8d0564fa-9bb5-43d8-8585-41b8d7d903e8"
      },
      "execution_count": 8,
      "outputs": [
        {
          "output_type": "stream",
          "name": "stdout",
          "text": [
            "введи слова через пробелsdgfkdfgk jkfhjdf ouiyoiy\n",
            "1 sdgfkdfgk\n",
            "2 jkfhjdf\n",
            "3 ouiyoiy\n"
          ]
        }
      ]
    },
    {
      "cell_type": "code",
      "source": [
        "my_list = [7,6,2,3,7]\n",
        "new_elem = True\n",
        "\n",
        "print('введите новое числе, для выода 0.')\n",
        "while new_elem:\n",
        "    try:\n",
        "        new_elem = int(input('введите число: '))\n",
        "    except ValueError:\n",
        "        print(\"ошибка ввода\")\n",
        "        continue\n",
        "    if not new_elem: exit\n",
        "    my_list.append(new_elem)\n",
        "    my_list.sort(reverse=True)\n",
        "    print('Результат:', ' '.join(map(str, my_list)))"
      ],
      "metadata": {
        "colab": {
          "base_uri": "https://localhost:8080/"
        },
        "id": "Rs-Qn7J8FOPm",
        "outputId": "9b81f600-9123-4a76-df66-aeae2b3e64d1"
      },
      "execution_count": 9,
      "outputs": [
        {
          "output_type": "stream",
          "name": "stdout",
          "text": [
            "введите новое числе, для выода 0.\n",
            "введите число: 33\n",
            "Результат: 33 7 7 6 3 2\n",
            "введите число: 56\n",
            "Результат: 56 33 7 7 6 3 2\n",
            "введите число: 1\n",
            "Результат: 56 33 7 7 6 3 2 1\n",
            "введите число: 1\n",
            "Результат: 56 33 7 7 6 3 2 1 1\n",
            "введите число: 456\n",
            "Результат: 456 56 33 7 7 6 3 2 1 1\n",
            "введите число: 0\n",
            "Результат: 456 56 33 7 7 6 3 2 1 1 0\n"
          ]
        }
      ]
    },
    {
      "cell_type": "code",
      "source": [
        ""
      ],
      "metadata": {
        "id": "Ff78iejBIWJv"
      },
      "execution_count": null,
      "outputs": []
    }
  ]
}