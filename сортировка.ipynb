{
  "nbformat": 4,
  "nbformat_minor": 0,
  "metadata": {
    "colab": {
      "provenance": [],
      "authorship_tag": "ABX9TyO7nCPunnlHvYRtzz3dxycx",
      "include_colab_link": true
    },
    "kernelspec": {
      "name": "python3",
      "display_name": "Python 3"
    },
    "language_info": {
      "name": "python"
    }
  },
  "cells": [
    {
      "cell_type": "markdown",
      "metadata": {
        "id": "view-in-github",
        "colab_type": "text"
      },
      "source": [
        "<a href=\"https://colab.research.google.com/github/roman-mikhaylov/repo_github/blob/main/%D1%81%D0%BE%D1%80%D1%82%D0%B8%D1%80%D0%BE%D0%B2%D0%BA%D0%B0.ipynb\" target=\"_parent\"><img src=\"https://colab.research.google.com/assets/colab-badge.svg\" alt=\"Open In Colab\"/></a>"
      ]
    },
    {
      "cell_type": "code",
      "execution_count": null,
      "metadata": {
        "colab": {
          "base_uri": "https://localhost:8080/"
        },
        "id": "me7XyaFLjqrC",
        "outputId": "a7a12fb8-923f-4953-803e-f070135a8dae"
      },
      "outputs": [
        {
          "name": "stdout",
          "output_type": "stream",
          "text": [
            "0 45 100 95 68\n"
          ]
        }
      ],
      "source": [
        "a = list(map(int, input().split())) # считывание списка\n",
        "\n"
      ]
    },
    {
      "cell_type": "code",
      "source": [
        "cnt = [0] * (max(a) + 1)  # генерация списка нулей длиной в максимальный элемент списка a\n",
        "cnt"
      ],
      "metadata": {
        "id": "23W-O67vCfRi"
      },
      "execution_count": null,
      "outputs": []
    },
    {
      "cell_type": "code",
      "source": [
        "for item in a:\n",
        "    cnt[item] += 1   # когда мы встречаем число в списке, увеличиваем его значение на 1\n",
        "\n",
        "# добавляем count раз число num в результат\n",
        "result = [num for num, count in enumerate(cnt) for i in range(count)] \n",
        "\n",
        "print(result)  # выводим отсортированный список"
      ],
      "metadata": {
        "colab": {
          "base_uri": "https://localhost:8080/"
        },
        "id": "K5rqNp7NClQZ",
        "outputId": "90ed3644-7f61-411e-d7aa-1786d7434c00"
      },
      "execution_count": null,
      "outputs": [
        {
          "output_type": "stream",
          "name": "stdout",
          "text": [
            "[0, 45, 68, 95, 100]\n"
          ]
        }
      ]
    }
  ]
}