{
  "nbformat": 4,
  "nbformat_minor": 0,
  "metadata": {
    "colab": {
      "provenance": [],
      "authorship_tag": "ABX9TyNVOfnAaiLg4VhDCPqEdmfP",
      "include_colab_link": true
    },
    "kernelspec": {
      "name": "python3",
      "display_name": "Python 3"
    },
    "language_info": {
      "name": "python"
    }
  },
  "cells": [
    {
      "cell_type": "markdown",
      "metadata": {
        "id": "view-in-github",
        "colab_type": "text"
      },
      "source": [
        "<a href=\"https://colab.research.google.com/github/roman-mikhaylov/repo_github/blob/main/ascii.ipynb\" target=\"_parent\"><img src=\"https://colab.research.google.com/assets/colab-badge.svg\" alt=\"Open In Colab\"/></a>"
      ]
    },
    {
      "cell_type": "code",
      "execution_count": 1,
      "metadata": {
        "colab": {
          "base_uri": "https://localhost:8080/"
        },
        "id": "me7XyaFLjqrC",
        "outputId": "f2a74c05-20f5-4e85-fdb3-db637673c7a2"
      },
      "outputs": [
        {
          "name": "stdout",
          "output_type": "stream",
          "text": [
            "23 45 67 12 45 55 93\n"
          ]
        }
      ],
      "source": [
        "a = list(map(int, input().split())) # считывание списка\n",
        "\n"
      ]
    },
    {
      "cell_type": "code",
      "source": [
        "cnt = [0] * (max(a) + 1)  # генерация списка нулей длиной в максимальный элемент списка a\n"
      ],
      "metadata": {
        "id": "23W-O67vCfRi"
      },
      "execution_count": 3,
      "outputs": []
    },
    {
      "cell_type": "code",
      "source": [
        "for item in a:\n",
        "    cnt[item] += 1   # когда мы встречаем число в списке, увеличиваем его значение на 1\n",
        "\n",
        "# добавляем count раз число num в результат\n",
        "result = [num for num, count in enumerate(cnt) for i in range(count)] \n",
        "\n",
        "print(result)  # выводим отсортированный список"
      ],
      "metadata": {
        "colab": {
          "base_uri": "https://localhost:8080/"
        },
        "id": "K5rqNp7NClQZ",
        "outputId": "70af8f56-847a-4b60-e523-35b235b89f40"
      },
      "execution_count": 4,
      "outputs": [
        {
          "output_type": "stream",
          "name": "stdout",
          "text": [
            "[12, 23, 45, 45, 55, 67, 93]\n"
          ]
        }
      ]
    }
  ]
}